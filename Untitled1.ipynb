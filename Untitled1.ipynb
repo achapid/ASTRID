{
  "nbformat": 4,
  "nbformat_minor": 0,
  "metadata": {
    "colab": {
      "provenance": [],
      "authorship_tag": "ABX9TyN3r5a0TDsinxmTFuic3UGP",
      "include_colab_link": true
    },
    "kernelspec": {
      "name": "python3",
      "display_name": "Python 3"
    },
    "language_info": {
      "name": "python"
    }
  },
  "cells": [
    {
      "cell_type": "markdown",
      "metadata": {
        "id": "view-in-github",
        "colab_type": "text"
      },
      "source": [
        "<a href=\"https://colab.research.google.com/github/achapid/ASTRID/blob/main/Untitled1.ipynb\" target=\"_parent\"><img src=\"https://colab.research.google.com/assets/colab-badge.svg\" alt=\"Open In Colab\"/></a>"
      ]
    },
    {
      "cell_type": "markdown",
      "source": [],
      "metadata": {
        "id": "eGO3Oqv-WKBQ"
      }
    },
    {
      "cell_type": "markdown",
      "source": [
        "#ESTO ES UN TITULO\n"
      ],
      "metadata": {
        "id": "pFXnlgwQWMAM"
      }
    },
    {
      "cell_type": "markdown",
      "source": [
        "##Esto es un subtitulo"
      ],
      "metadata": {
        "id": "-aEkzflmWrbH"
      }
    },
    {
      "cell_type": "markdown",
      "source": [
        "##Esto es otro subtutulo\n"
      ],
      "metadata": {
        "id": "oAqzETywW0dO"
      }
    },
    {
      "cell_type": "code",
      "source": [
        "print(\"Hola, mundo\")\n"
      ],
      "metadata": {
        "colab": {
          "base_uri": "https://localhost:8080/"
        },
        "id": "A23iRRYOXHT2",
        "outputId": "6e64155e-8d06-45ca-9649-97346fea771a"
      },
      "execution_count": 2,
      "outputs": [
        {
          "output_type": "stream",
          "name": "stdout",
          "text": [
            "Hola, mundo\n"
          ]
        }
      ]
    },
    {
      "cell_type": "markdown",
      "source": [],
      "metadata": {
        "id": "FUmJlEynWtaN"
      }
    }
  ]
}